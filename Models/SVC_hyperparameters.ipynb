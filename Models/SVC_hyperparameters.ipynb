{
 "cells": [
  {
   "cell_type": "code",
   "execution_count": 12,
   "metadata": {},
   "outputs": [],
   "source": [
    "\n",
    "import pandas as pd\n",
    "from sklearn.model_selection import train_test_split\n",
    "from sklearn.pipeline import Pipeline\n",
    "from sklearn.discriminant_analysis import StandardScaler\n",
    "from sklearn.model_selection import GridSearchCV\n",
    "from basic_pipeline_functions import PipelineBasic\n",
    "from sklearn.preprocessing import StandardScaler\n",
    "from sklearn.pipeline import Pipeline\n",
    "from sklearn.feature_selection import SelectKBest\n",
    "from sklearn.preprocessing import StandardScaler\n",
    "from sklearn.svm import SVC\n",
    "\n",
    "data=pd.read_csv('data/data.csv')\n",
    "train, test = train_test_split(data, test_size=0.2, random_state=42)\n",
    "X_train = train.drop(['CREDIT_SCORE','DEFAULT'], axis=1)\n",
    "y_train = train['DEFAULT']\n",
    "\n",
    "X_test = test.drop(['CREDIT_SCORE','DEFAULT'], axis=1)\n",
    "y_test = test['DEFAULT']"
   ]
  },
  {
   "cell_type": "code",
   "execution_count": 13,
   "metadata": {},
   "outputs": [
    {
     "name": "stdout",
     "output_type": "stream",
     "text": [
      "Best parameters: {'classifier__C': 1, 'classifier__gamma': 0.1, 'classifier__kernel': 'rbf'}\n",
      "Best accuracy: 0.73125\n"
     ]
    }
   ],
   "source": [
    "pipeline = Pipeline([\n",
    "    ('basic_pipeline', PipelineBasic),\n",
    "    ('selector', SelectKBest(k=20)), \n",
    "    ('scaler', StandardScaler()),\n",
    "    ('classifier', SVC())  \n",
    "])\n",
    "\n",
    "\n",
    "param_grid = {\n",
    "    'classifier__C': [0.1, 1, 10],\n",
    "    'classifier__gamma': [1, 0.1, 0.01],\n",
    "    'classifier__kernel': ['rbf', 'linear']\n",
    "}\n",
    "\n",
    "\n",
    "grid_search = GridSearchCV(pipeline, param_grid, cv=5, scoring='accuracy')\n",
    "\n",
    "\n",
    "grid_search.fit(X_train, y_train)\n",
    "\n",
    "\n",
    "best_params = grid_search.best_params_\n",
    "best_accuracy = grid_search.best_score_\n",
    "\n",
    "print(\"Best parameters:\", best_params)\n",
    "print(\"Best accuracy:\", best_accuracy)"
   ]
  }
 ],
 "metadata": {
  "kernelspec": {
   "display_name": "base",
   "language": "python",
   "name": "python3"
  },
  "language_info": {
   "codemirror_mode": {
    "name": "ipython",
    "version": 3
   },
   "file_extension": ".py",
   "mimetype": "text/x-python",
   "name": "python",
   "nbconvert_exporter": "python",
   "pygments_lexer": "ipython3",
   "version": "3.9.12"
  }
 },
 "nbformat": 4,
 "nbformat_minor": 2
}
