{
 "cells": [
  {
   "cell_type": "code",
   "execution_count": 28,
   "metadata": {},
   "outputs": [],
   "source": [
    "import pandas as pd\n",
    "import numpy as np\n",
    "from sklearn.model_selection import train_test_split\n",
    "from sklearn.pipeline import Pipeline\n",
    "from sklearn.preprocessing import StandardScaler\n",
    "from sklearn.metrics import classification_report, accuracy_score\n",
    "from sklearn.metrics import classification_report, recall_score\n",
    "from basic_pipeline_functions import PipelineBasic\n",
    "from sklearn.feature_selection import SelectKBest\n",
    "from sklearn.svm import SVC\n",
    "from sklearn.calibration import cross_val_predict\n",
    "from sklearn.metrics import confusion_matrix, precision_score\n",
    "\n",
    "data=pd.read_csv('data/data.csv')\n",
    "\n",
    "train, test = train_test_split(data, test_size=0.2, random_state=42)\n",
    "\n",
    "X_train = train.drop(['CREDIT_SCORE','DEFAULT'], axis=1)\n",
    "y_train = train['DEFAULT']\n",
    "\n",
    "X_test = test.drop(['CREDIT_SCORE','DEFAULT'], axis=1)\n",
    "y_test = test['DEFAULT']\n"
   ]
  },
  {
   "cell_type": "code",
   "execution_count": 29,
   "metadata": {},
   "outputs": [
    {
     "name": "stdout",
     "output_type": "stream",
     "text": [
      "              precision    recall  f1-score   support\n",
      "\n",
      "           0       0.74      1.00      0.85       114\n",
      "           1       1.00      0.11      0.20        46\n",
      "\n",
      "    accuracy                           0.74       160\n",
      "   macro avg       0.87      0.55      0.52       160\n",
      "weighted avg       0.81      0.74      0.66       160\n",
      "\n",
      "Accuracy: 0.74375\n"
     ]
    }
   ],
   "source": [
    "best_pipeline = Pipeline([\n",
    "    ('basic_pipeline', PipelineBasic),  \n",
    "    ('selector', SelectKBest(k=20)), \n",
    "    ('scaler', StandardScaler()),\n",
    "    ('classifier', SVC(C=1, gamma=0.1, kernel='rbf'))\n",
    "])\n",
    "\n",
    "best_pipeline.fit(X_train, y_train)\n",
    "\n",
    "predictions = best_pipeline.predict(X_test)\n",
    "print(classification_report(y_test, predictions))\n",
    "print(\"Accuracy:\", accuracy_score(y_test, predictions))"
   ]
  },
  {
   "cell_type": "code",
   "execution_count": 31,
   "metadata": {},
   "outputs": [
    {
     "name": "stdout",
     "output_type": "stream",
     "text": [
      "Precision for class 0 (cross-validation): 0.7333333333333333\n",
      "Recall for class 0 (cross-validation): 0.9825708061002179\n",
      "Precision for class 1 (cross-validation): 0.68\n",
      "Recall for class 1 (cross-validation): 0.09392265193370165\n",
      "Confusion Matrix (cross-validation):\n",
      "[[451   8]\n",
      " [164  17]]\n",
      "Accuracy (cross-validation): 0.73125\n"
     ]
    }
   ],
   "source": [
    "X_train = train.drop(['CREDIT_SCORE','DEFAULT'], axis=1)\n",
    "y_train = train['DEFAULT']\n",
    "\n",
    "X_test = test.drop(['CREDIT_SCORE','DEFAULT'], axis=1)\n",
    "y_test = test['DEFAULT']\n",
    "\n",
    "y_pred_cv = cross_val_predict(best_pipeline, X_train, y_train, cv=5)\n",
    "\n",
    "precision_0_cv = precision_score(y_train, y_pred_cv, pos_label=0)\n",
    "recall_0_cv = recall_score(y_train, y_pred_cv, pos_label=0)\n",
    "precision_1_cv = precision_score(y_train, y_pred_cv, pos_label=1)\n",
    "recall_1_cv = recall_score(y_train, y_pred_cv, pos_label=1)\n",
    "\n",
    "print(\"Precision for class 0 (cross-validation):\", precision_0_cv)\n",
    "print(\"Recall for class 0 (cross-validation):\", recall_0_cv)\n",
    "print(\"Precision for class 1 (cross-validation):\", precision_1_cv)\n",
    "print(\"Recall for class 1 (cross-validation):\", recall_1_cv)\n",
    "\n",
    "conf_matrix_cv = confusion_matrix(y_train, y_pred_cv)\n",
    "\n",
    "print(\"Confusion Matrix (cross-validation):\")\n",
    "print(conf_matrix_cv)\n",
    "\n",
    "print(\"Accuracy (cross-validation):\", (conf_matrix_cv[0][0] + conf_matrix_cv[1][1]) / (conf_matrix_cv[0][0] + conf_matrix_cv[0][1] + conf_matrix_cv[1][0] + conf_matrix_cv[1][1]))"
   ]
  }
 ],
 "metadata": {
  "kernelspec": {
   "display_name": "base",
   "language": "python",
   "name": "python3"
  },
  "language_info": {
   "codemirror_mode": {
    "name": "ipython",
    "version": 3
   },
   "file_extension": ".py",
   "mimetype": "text/x-python",
   "name": "python",
   "nbconvert_exporter": "python",
   "pygments_lexer": "ipython3",
   "version": "3.9.12"
  }
 },
 "nbformat": 4,
 "nbformat_minor": 2
}
